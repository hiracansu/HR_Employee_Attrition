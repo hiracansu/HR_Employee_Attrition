{
 "cells": [
  {
   "cell_type": "code",
   "execution_count": 13,
   "id": "13cf8d32",
   "metadata": {},
   "outputs": [],
   "source": [
    "import pickle\n",
    "import numpy as np\n",
    "import pandas as pd\n",
    "import matplotlib.pyplot as plt\n",
    "import seaborn as sns\n",
    "import time\n",
    "from sklearn.preprocessing import MinMaxScaler, LabelEncoder\n",
    "from sklearn.model_selection import train_test_split, cross_val_score\n",
    "from sklearn.model_selection import GridSearchCV\n",
    "from sklearn.svm import SVC\n",
    "from sklearn.linear_model import LogisticRegression\n",
    "from sklearn.ensemble import RandomForestClassifier\n",
    "from sklearn.feature_selection import SelectFromModel\n",
    "from sklearn.metrics import accuracy_score, recall_score, precision_score, f1_score\n",
    "import warnings\n",
    "warnings.filterwarnings(\"ignore\")"
   ]
  },
  {
   "cell_type": "code",
   "execution_count": 14,
   "id": "1fa710ca",
   "metadata": {},
   "outputs": [
    {
     "name": "stdout",
     "output_type": "stream",
     "text": [
      "      Age  Attrition  BusinessTravel  DailyRate  Department  DistanceFromHome  \\\n",
      "0      41          1               2       1102           2          0.000000   \n",
      "1      49          0               1        279           1          2.079442   \n",
      "2      37          1               2       1373           1          0.693147   \n",
      "3      33          0               1       1392           1          1.098612   \n",
      "4      27          0               2        591           1          0.693147   \n",
      "...   ...        ...             ...        ...         ...               ...   \n",
      "1465   36          0               1        884           1          3.135494   \n",
      "1466   39          0               2        613           1          1.791759   \n",
      "1467   27          0               2        155           1          1.386294   \n",
      "1468   49          0               1       1023           2          0.693147   \n",
      "1469   34          0               2        628           1          2.079442   \n",
      "\n",
      "      Education  EducationField  EnvironmentSatisfaction  Gender  ...  \\\n",
      "0             2               1                        2       0  ...   \n",
      "1             1               1                        3       1  ...   \n",
      "2             2               4                        4       1  ...   \n",
      "3             4               1                        4       0  ...   \n",
      "4             1               3                        1       1  ...   \n",
      "...         ...             ...                      ...     ...  ...   \n",
      "1465          2               3                        3       1  ...   \n",
      "1466          1               3                        4       1  ...   \n",
      "1467          3               1                        2       1  ...   \n",
      "1468          3               3                        4       1  ...   \n",
      "1469          3               3                        2       1  ...   \n",
      "\n",
      "      PerformanceRating  RelationshipSatisfaction  StockOptionLevel  \\\n",
      "0              1.732051                         1               0.0   \n",
      "1              2.000000                         4               1.0   \n",
      "2              1.732051                         2               0.0   \n",
      "3              1.732051                         3               0.0   \n",
      "4              1.732051                         4               1.0   \n",
      "...                 ...                       ...               ...   \n",
      "1465           1.732051                         3               1.0   \n",
      "1466           1.732051                         1               1.0   \n",
      "1467           2.000000                         2               1.0   \n",
      "1468           1.732051                         4               0.0   \n",
      "1469           1.732051                         1               0.0   \n",
      "\n",
      "      TotalWorkingYears  TrainingTimesLastYear  WorkLifeBalance  \\\n",
      "0              2.828427                      0                1   \n",
      "1              3.162278                      3                3   \n",
      "2              2.645751                      3                3   \n",
      "3              2.828427                      3                3   \n",
      "4              2.449490                      3                3   \n",
      "...                 ...                    ...              ...   \n",
      "1465           4.123106                      3                3   \n",
      "1466           3.000000                      5                3   \n",
      "1467           2.449490                      0                3   \n",
      "1468           4.123106                      3                2   \n",
      "1469           2.449490                      3                4   \n",
      "\n",
      "      YearsAtCompany  YearsInCurrentRole  YearsSinceLastPromotion  \\\n",
      "0           2.449490            2.000000                 0.000000   \n",
      "1           3.162278            2.645751                 1.000000   \n",
      "2           0.000000            0.000000                 0.000000   \n",
      "3           2.828427            2.645751                 1.732051   \n",
      "4           1.414214            1.414214                 1.414214   \n",
      "...              ...                 ...                      ...   \n",
      "1465        2.236068            1.414214                 0.000000   \n",
      "1466        2.645751            2.645751                 1.000000   \n",
      "1467        2.449490            1.414214                 0.000000   \n",
      "1468        3.000000            2.449490                 0.000000   \n",
      "1469        2.000000            1.732051                 1.000000   \n",
      "\n",
      "      YearsWithCurrManager  \n",
      "0                 2.236068  \n",
      "1                 2.645751  \n",
      "2                 0.000000  \n",
      "3                 0.000000  \n",
      "4                 1.414214  \n",
      "...                    ...  \n",
      "1465              1.732051  \n",
      "1466              2.645751  \n",
      "1467              1.732051  \n",
      "1468              2.828427  \n",
      "1469              1.414214  \n",
      "\n",
      "[1470 rows x 31 columns]\n"
     ]
    }
   ],
   "source": [
    "filename = 'preprocessing.pickle'\n",
    "data = pickle.load(open(filename, 'rb'))\n",
    "print(data)"
   ]
  },
  {
   "cell_type": "code",
   "execution_count": 15,
   "id": "0f71ac42",
   "metadata": {},
   "outputs": [
    {
     "data": {
      "text/plain": [
       "(1470, 31)"
      ]
     },
     "execution_count": 15,
     "metadata": {},
     "output_type": "execute_result"
    }
   ],
   "source": [
    "data.shape"
   ]
  },
  {
   "cell_type": "code",
   "execution_count": 16,
   "id": "72667415",
   "metadata": {},
   "outputs": [],
   "source": [
    "x = data.copy()\n",
    "x = x.drop('Attrition', axis=1)\n",
    "y = data['Attrition']"
   ]
  },
  {
   "cell_type": "code",
   "execution_count": 17,
   "id": "13fc491a",
   "metadata": {},
   "outputs": [],
   "source": [
    "scaler = MinMaxScaler()\n",
    "xd = scaler.fit_transform(x)\n",
    "x = pd.DataFrame(xd, columns=x.columns)"
   ]
  },
  {
   "cell_type": "code",
   "execution_count": 18,
   "id": "ca68d216",
   "metadata": {},
   "outputs": [],
   "source": [
    "np.random.seed(12345)"
   ]
  },
  {
   "cell_type": "code",
   "execution_count": 19,
   "id": "cb1e55d2",
   "metadata": {},
   "outputs": [],
   "source": [
    "x_train, x_test, y_train, y_test = train_test_split(x, y, test_size=0.149)"
   ]
  },
  {
   "cell_type": "code",
   "execution_count": 25,
   "id": "5985f3fb",
   "metadata": {},
   "outputs": [
    {
     "name": "stdout",
     "output_type": "stream",
     "text": [
      "0.8909090909090909\n"
     ]
    }
   ],
   "source": [
    "loaded_model = pickle.load(open('model.pickle', 'rb'))\n",
    "result = loaded_model.score(x_test, y_test)\n",
    "print(result)"
   ]
  },
  {
   "cell_type": "code",
   "execution_count": 26,
   "id": "0e67a9be",
   "metadata": {},
   "outputs": [
    {
     "name": "stdout",
     "output_type": "stream",
     "text": [
      "Cross validation score for accuracy is 0.8728\n",
      "Cross validation score for precision is 0.709463768115942\n",
      "Cross validation score for recall is 0.3902439024390244\n",
      "Cross validation score for f1_weighted is 0.8568979931567308\n",
      "\n",
      "Test score for accuracy is 0.8909090909090909\n",
      "Test score for precision is 0.7222222222222222\n",
      "Test score for recall is 0.40625\n",
      "Test score for f1_weighted is 0.8775944055944057\n"
     ]
    }
   ],
   "source": [
    "metrics = ['accuracy', 'precision', 'recall', 'f1_weighted']\n",
    "\n",
    "for metric in metrics:\n",
    "    np.random.seed(12345)\n",
    "    clf = LogisticRegression(C=10, penalty='l1', solver='liblinear')\n",
    "    scores = cross_val_score(clf, x_train, y_train, cv=5, scoring = metric)\n",
    "    print('Cross validation score for {} is {}'.format(metric, np.mean(scores)))\n",
    "print()\n",
    "\n",
    "np.random.seed(12345)\n",
    "clf =  LogisticRegression(C=10, penalty='l1', solver='liblinear')\n",
    "clf.fit(x_train, y_train)\n",
    "\n",
    "preds = clf.predict(x_test)\n",
    "print('Test score for {} is {}'.format('accuracy', accuracy_score(y_test, preds)))\n",
    "print('Test score for {} is {}'.format('precision', precision_score(y_test, preds)))\n",
    "print('Test score for {} is {}'.format('recall', recall_score(y_test, preds)))\n",
    "print('Test score for {} is {}'.format('f1_weighted', f1_score(y_test, preds, average='weighted')))\n"
   ]
  },
  {
   "cell_type": "code",
   "execution_count": 27,
   "id": "f55e9f37",
   "metadata": {},
   "outputs": [],
   "source": [
    "# test sonuclari goruldugu uzere esit cikmistir. \n",
    "# Pickle ile nasil nasil bir format istenildiginden emin olamadigim icin bu sekilde gostermeye calistim."
   ]
  },
  {
   "cell_type": "code",
   "execution_count": null,
   "id": "8369a500",
   "metadata": {},
   "outputs": [],
   "source": []
  }
 ],
 "metadata": {
  "kernelspec": {
   "display_name": "Python 3 (ipykernel)",
   "language": "python",
   "name": "python3"
  },
  "language_info": {
   "codemirror_mode": {
    "name": "ipython",
    "version": 3
   },
   "file_extension": ".py",
   "mimetype": "text/x-python",
   "name": "python",
   "nbconvert_exporter": "python",
   "pygments_lexer": "ipython3",
   "version": "3.8.10"
  }
 },
 "nbformat": 4,
 "nbformat_minor": 5
}
